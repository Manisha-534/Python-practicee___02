{
 "cells": [
  {
   "cell_type": "markdown",
   "id": "922732e4-5d25-4c63-959c-a427da570bd9",
   "metadata": {},
   "source": [
    "***Write a Python program to swap two variables.***"
   ]
  },
  {
   "cell_type": "code",
   "execution_count": null,
   "id": "d2faf782-0cea-4bfc-9a46-22e38b17e9f2",
   "metadata": {},
   "outputs": [],
   "source": []
  },
  {
   "cell_type": "code",
   "execution_count": null,
   "id": "e9e5db1e-471b-4533-9d41-5ff4514cfa8f",
   "metadata": {},
   "outputs": [],
   "source": []
  },
  {
   "cell_type": "code",
   "execution_count": 2,
   "id": "0d38da82-bfee-46fb-870d-ce25b62b0795",
   "metadata": {},
   "outputs": [
    {
     "name": "stdin",
     "output_type": "stream",
     "text": [
      "enter the number1 10\n",
      "enter the number2 80\n"
     ]
    },
    {
     "name": "stdout",
     "output_type": "stream",
     "text": [
      "orginal values: a=10,b=80\n",
      "swap values: a=80,b=10\n"
     ]
    }
   ],
   "source": [
    "a=input(\"enter the number1\")\n",
    "b=input(\"enter the number2\")\n",
    "print(f\"orginal values: a={a},b={b}\")\n",
    "temp=a\n",
    "#temp=10\n",
    "a=b\n",
    "#10=\n",
    "b=temp\n",
    "print(f\"swap values: a={a},b={b}\")"
   ]
  },
  {
   "cell_type": "markdown",
   "id": "171fadaa-50ce-4169-a31c-7569cc7936ca",
   "metadata": {},
   "source": [
    "***Write a Python program to generate a random number.***"
   ]
  },
  {
   "cell_type": "code",
   "execution_count": 4,
   "id": "39fe61df-d744-4d69-9596-570c03207c19",
   "metadata": {},
   "outputs": [
    {
     "name": "stdout",
     "output_type": "stream",
     "text": [
      "RAndom number: 19\n"
     ]
    }
   ],
   "source": [
    "import random\n",
    "print(f\"RAndom number: {random.randint(1,100)}\")"
   ]
  },
  {
   "cell_type": "markdown",
   "id": "c188fbbf-57f5-4bf4-bb73-2c4a06a3e2df",
   "metadata": {},
   "source": [
    "***Write a Python program to convert kilometers to miles.***"
   ]
  },
  {
   "cell_type": "code",
   "execution_count": 9,
   "id": "419aeaae-6c41-44da-af9a-bbcaad99c6a7",
   "metadata": {},
   "outputs": [
    {
     "name": "stdin",
     "output_type": "stream",
     "text": [
      "enter the distance of kilometres 100\n"
     ]
    },
    {
     "name": "stdout",
     "output_type": "stream",
     "text": [
      "100.0 kilometers is equal to 62.1 miles\n"
     ]
    }
   ],
   "source": [
    "km=float(input(\"enter the distance of kilometres\"))\n",
    "c_f=0.621\n",
    "miles=km*c_f\n",
    "print(f\"{km} kilometers is equal to {miles} miles\")"
   ]
  },
  {
   "cell_type": "markdown",
   "id": "fe858cec-196a-4f4b-92dc-1ce007d186f2",
   "metadata": {},
   "source": [
    "***Write a Python program to convert Celsius to Fahrenheit.***"
   ]
  },
  {
   "cell_type": "code",
   "execution_count": null,
   "id": "eb707b8a-2c32-4baf-b5dc-a2ad01e8f7c7",
   "metadata": {},
   "outputs": [],
   "source": [
    "celsius=float(input(\"enter the temperture:\"))\n",
    "Fahrenheit=(celsius*9/5+32)"
   ]
  },
  {
   "cell_type": "code",
   "execution_count": 1,
   "id": "b97730ce-7d56-4a3b-9f44-9b68d448f793",
   "metadata": {},
   "outputs": [
    {
     "ename": "NameError",
     "evalue": "name 'b' is not defined",
     "output_type": "error",
     "traceback": [
      "\u001b[1;31m---------------------------------------------------------------------------\u001b[0m",
      "\u001b[1;31mNameError\u001b[0m                                 Traceback (most recent call last)",
      "Cell \u001b[1;32mIn[1], line 2\u001b[0m\n\u001b[0;32m      1\u001b[0m a\u001b[38;5;241m=\u001b[39m\u001b[38;5;241m10\u001b[39m\n\u001b[1;32m----> 2\u001b[0m b\n",
      "\u001b[1;31mNameError\u001b[0m: name 'b' is not defined"
     ]
    }
   ],
   "source": [
    "a=10\n",
    "b"
   ]
  },
  {
   "cell_type": "code",
   "execution_count": null,
   "id": "b8bcfa8a-bd09-460f-86b6-15c565497c0f",
   "metadata": {},
   "outputs": [],
   "source": []
  },
  {
   "cell_type": "code",
   "execution_count": null,
   "id": "aa7d453f-fc96-4583-b986-b0c06ab172e9",
   "metadata": {},
   "outputs": [],
   "source": []
  },
  {
   "cell_type": "code",
   "execution_count": null,
   "id": "2198d6f1-63b5-4ca4-a096-08c2fc45af42",
   "metadata": {},
   "outputs": [],
   "source": []
  },
  {
   "cell_type": "code",
   "execution_count": null,
   "id": "c006e558-5a52-4a30-afcf-82f27dc26f29",
   "metadata": {},
   "outputs": [],
   "source": []
  }
 ],
 "metadata": {
  "kernelspec": {
   "display_name": "Python 3 (ipykernel)",
   "language": "python",
   "name": "python3"
  },
  "language_info": {
   "codemirror_mode": {
    "name": "ipython",
    "version": 3
   },
   "file_extension": ".py",
   "mimetype": "text/x-python",
   "name": "python",
   "nbconvert_exporter": "python",
   "pygments_lexer": "ipython3",
   "version": "3.11.7"
  }
 },
 "nbformat": 4,
 "nbformat_minor": 5
}
